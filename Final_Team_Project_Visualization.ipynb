{
  "nbformat": 4,
  "nbformat_minor": 0,
  "metadata": {
    "colab": {
      "name": "Final Team Project Visualization.ipynb",
      "provenance": [],
      "include_colab_link": true
    },
    "kernelspec": {
      "name": "python3",
      "display_name": "Python 3"
    }
  },
  "cells": [
    {
      "cell_type": "markdown",
      "metadata": {
        "id": "view-in-github",
        "colab_type": "text"
      },
      "source": [
        "<a href=\"https://colab.research.google.com/github/moh5195/SRA268/blob/master/Final_Team_Project_Visualization.ipynb\" target=\"_parent\"><img src=\"https://colab.research.google.com/assets/colab-badge.svg\" alt=\"Open In Colab\"/></a>"
      ]
    },
    {
      "cell_type": "markdown",
      "metadata": {
        "id": "Kw5PZBtl0Ob6",
        "colab_type": "text"
      },
      "source": [
        "# Movie ratings from a world view"
      ]
    },
    {
      "cell_type": "markdown",
      "metadata": {
        "id": "iXWAmSVB0Rno",
        "colab_type": "text"
      },
      "source": [
        "Contributors:\n",
        "\n",
        "\n",
        "*   Michael Hoag\n",
        "*   Abel Botterbusch\n",
        "*   Kathleen Gallagher\n",
        "\n",
        "\n",
        "\n"
      ]
    },
    {
      "cell_type": "markdown",
      "metadata": {
        "id": "WpaW-i5l0ZHn",
        "colab_type": "text"
      },
      "source": [
        "## Background"
      ]
    },
    {
      "cell_type": "markdown",
      "metadata": {
        "id": "E4VKsOvP0eev",
        "colab_type": "text"
      },
      "source": [
        "The initial idea was to find a dataset with information on movies or tv shows. We wanted something that contained and linked together movie titles, ratings, languages, and even locations of release. All of these things would be ideal to understand each country's movie industry in terms of ratings and quantity of release. The country of origin/ release is one of the most important features so we can geolocate and coordinate the data. We initially wanted to pair the data to see if there are any projection of ratings with types of movies, through time, however this could not be fully representative of the full sample if not enough were used, or even not a representative sample was used. The types of movies genres contained and the dates could suggest an increase or decrease in production of certain types of films. This paired with ratings could suggest that certain genres of movies are driven by these ratings, a higher production with higher ratings, and a decrease in production with a decrease of average ratings. The type of release of the movie is also an important factor because depending on how the movie was shown it could reach different demographics and regions more than others. Somewhere with many movie theaters or community driven movie theaters could play a larger role in big box office releases compared to smaller independent films created by big companies such as Netflix or Amazon. However, this data proved hard to find as often many times they are released in theater then later to streaming platforms, making the data hard to seperate. In the case of this project the streaming platform will not be included in the scope of our analysis and case study context. \n"
      ]
    },
    {
      "cell_type": "markdown",
      "metadata": {
        "id": "7d8vfcGufV0_",
        "colab_type": "text"
      },
      "source": [
        "### Goal"
      ]
    },
    {
      "cell_type": "markdown",
      "metadata": {
        "id": "e1jKSGTjfY2H",
        "colab_type": "text"
      },
      "source": [
        "To further explore movie ratings in relation to country of origins and how the duration of the film along with the language relates or influences ratings.\n"
      ]
    },
    {
      "cell_type": "markdown",
      "metadata": {
        "id": "GOxy_TvCfi54",
        "colab_type": "text"
      },
      "source": [
        "### Assumptions"
      ]
    },
    {
      "cell_type": "markdown",
      "metadata": {
        "id": "cw1v_1MMfnAR",
        "colab_type": "text"
      },
      "source": [
        "Insert 10 assumptions for your data model:\n",
        "*   Imdb scoring is out of the usual 10 \n",
        "*   The data has not been manipulated\n",
        "*   Each movie title’s rating is for that title\n",
        "*   The movies was released to the mass\n",
        "*   The movies were screened in a theater or through a streaming service\n",
        "*   Each film was rated in the native/produced language\n",
        "*   Each film did not have the same budget\n",
        "*   Every film might be cross listed in genres\n",
        "*   Imdb rates each movie fairly\n",
        "*   Other persons/companies ratings ratings were not taken into account \n",
        "\n",
        "\n"
      ]
    },
    {
      "cell_type": "markdown",
      "metadata": {
        "id": "jKGILpu7gWr6",
        "colab_type": "text"
      },
      "source": [
        "### Data Sources"
      ]
    },
    {
      "cell_type": "markdown",
      "metadata": {
        "id": "uwCao7AtgbNn",
        "colab_type": "text"
      },
      "source": [
        "When searching for our data sources, we wanted something that had many different uses. When searching through Kaggle, we stumbled on movie metadata, on almost 45,000 movie titles that were reviewed on the MovieLens database, which contains 20 million ratings. Contained inside the first movie metadata set, there were tons of movies, budget information, gross sales, etc. However there were also two other files that expanded it further, one being ratings_small, and credits. We found that these datasets were created to interact with each other. When opening movie_metadata, we were able to easily join them based on movie id’s and movie titles, allowing us to get the imdb rating along with the cast, crew, and language. The first source was the movie metadata file, the second was the ratings_small because this gives you a manageable set of data that our computers could handle in a relatively short time. The last file integrated was the credits file that integrates in the cast and crew information in each of the movie titles that were rated and included. Although there is only one url, all the separate data files used were all located there. We opted to use the ratings_small because using the full ratings file would crash the application after loading over 30 million rows in twenty minutes. The smaller data set imported almost instantly, with no problems, and did not overwhelm us with too much data. However, together it allowed us to get a deeper understanding of the data.. \n"
      ]
    },
    {
      "cell_type": "markdown",
      "metadata": {
        "id": "kDgSdoQUgg2Z",
        "colab_type": "text"
      },
      "source": [
        "#### Sources"
      ]
    },
    {
      "cell_type": "markdown",
      "metadata": {
        "id": "dFzYIi0Agi2_",
        "colab_type": "text"
      },
      "source": [
        "Rounak Banik\n",
        "https://www.kaggle.com/rounakbanik/the-movies-dataset\n"
      ]
    },
    {
      "cell_type": "markdown",
      "metadata": {
        "id": "qcFak2v7g3jt",
        "colab_type": "text"
      },
      "source": [
        "# Dashboard"
      ]
    },
    {
      "cell_type": "code",
      "metadata": {
        "id": "knG79vNP0Q0u",
        "colab_type": "code",
        "outputId": "a329a702-3745-4cfe-a172-5c1085bd98b3",
        "colab": {
          "base_uri": "https://localhost:8080/"
        }
      },
      "source": [
        "import IPython\n",
        "IPython.display.HTML(\"<div class='tableauPlaceholder' id='viz1587994591180' style='position: relative'><noscript><a href='#'><img alt=' ' src='https:&#47;&#47;public.tableau.com&#47;static&#47;images&#47;Fi&#47;FinalTeamProjectV2&#47;Dashboard1&#47;1_rss.png' style='border: none' /></a></noscript><object class='tableauViz'  style='display:none;'><param name='host_url' value='https%3A%2F%2Fpublic.tableau.com%2F' /> <param name='embed_code_version' value='3' /> <param name='site_root' value='' /><param name='name' value='FinalTeamProjectV2&#47;Dashboard1' /><param name='tabs' value='no' /><param name='toolbar' value='yes' /><param name='static_image' value='https:&#47;&#47;public.tableau.com&#47;static&#47;images&#47;Fi&#47;FinalTeamProjectV2&#47;Dashboard1&#47;1.png' /> <param name='animate_transition' value='yes' /><param name='display_static_image' value='yes' /><param name='display_spinner' value='yes' /><param name='display_overlay' value='yes' /><param name='display_count' value='yes' /><param name='filter' value='publish=yes' /></object></div>                <script type='text/javascript'>                    var divElement = document.getElementById('viz1587994591180');                    var vizElement = divElement.getElementsByTagName('object')[0];                    if ( divElement.offsetWidth > 800 ) { vizElement.style.width='1000px';vizElement.style.height='827px';} else if ( divElement.offsetWidth > 500 ) { vizElement.style.width='1000px';vizElement.style.height='827px';} else { vizElement.style.width='100%';vizElement.style.height='877px';}                     var scriptElement = document.createElement('script');                    scriptElement.src = 'https://public.tableau.com/javascripts/api/viz_v1.js';                    vizElement.parentNode.insertBefore(scriptElement, vizElement);                </script>\")\n"
      ],
      "execution_count": 1,
      "outputs": [
        {
          "output_type": "execute_result",
          "data": {
            "text/html": [
              "<div class='tableauPlaceholder' id='viz1587994591180' style='position: relative'><noscript><a href='#'><img alt=' ' src='https:&#47;&#47;public.tableau.com&#47;static&#47;images&#47;Fi&#47;FinalTeamProjectV2&#47;Dashboard1&#47;1_rss.png' style='border: none' /></a></noscript><object class='tableauViz'  style='display:none;'><param name='host_url' value='https%3A%2F%2Fpublic.tableau.com%2F' /> <param name='embed_code_version' value='3' /> <param name='site_root' value='' /><param name='name' value='FinalTeamProjectV2&#47;Dashboard1' /><param name='tabs' value='no' /><param name='toolbar' value='yes' /><param name='static_image' value='https:&#47;&#47;public.tableau.com&#47;static&#47;images&#47;Fi&#47;FinalTeamProjectV2&#47;Dashboard1&#47;1.png' /> <param name='animate_transition' value='yes' /><param name='display_static_image' value='yes' /><param name='display_spinner' value='yes' /><param name='display_overlay' value='yes' /><param name='display_count' value='yes' /><param name='filter' value='publish=yes' /></object></div>                <script type='text/javascript'>                    var divElement = document.getElementById('viz1587994591180');                    var vizElement = divElement.getElementsByTagName('object')[0];                    if ( divElement.offsetWidth > 800 ) { vizElement.style.width='1000px';vizElement.style.height='827px';} else if ( divElement.offsetWidth > 500 ) { vizElement.style.width='1000px';vizElement.style.height='827px';} else { vizElement.style.width='100%';vizElement.style.height='877px';}                     var scriptElement = document.createElement('script');                    scriptElement.src = 'https://public.tableau.com/javascripts/api/viz_v1.js';                    vizElement.parentNode.insertBefore(scriptElement, vizElement);                </script>"
            ],
            "text/plain": [
              "<IPython.core.display.HTML object>"
            ]
          },
          "metadata": {
            "tags": []
          },
          "execution_count": 1
        }
      ]
    },
    {
      "cell_type": "markdown",
      "metadata": {
        "id": "SvWfnlDjnos1",
        "colab_type": "text"
      },
      "source": [
        "## Conclusion"
      ]
    },
    {
      "cell_type": "markdown",
      "metadata": {
        "id": "rfWefr2gnxOG",
        "colab_type": "text"
      },
      "source": [
        "\n",
        "\n",
        "After seeing the movie ratings portrayed on a mapped graph, we were able to observe how the Imdb ratings differ from country to country. From the map alone, the data shows some surprising revelations. From the small sample of movies, 4,500 titles, the U.S. overwhelmingly had the most titles with around 3,700. This shows a large disproportion of movies created and distributed from the United States. Although the average rating for the U.S. is a little above 6.3, it has the vast majority of titles sampled. This could be due to a variety of reasons and factors that were not considered or can be seen from this specific visualization. Some of these factors could be, a large portion of the sample could be lower quality, budget movies. These films not having the budget of large companies might not have the pure resources and capital required to execute their vision properly. However, it might also suggest that the vast variety in films could lead to a reduction in quality, resulting in the rating to be lower. This can be considered as well when looking at “Content Rating by year”. In this section, the number of the sampled films are placed by their year and their rating, showing a distribution of films over time. In this, there is a general shift in the pure quantity of movies rated “Approved” or “not rated” towards “G”, “PG or PG-13” and even “R”. This increase in films and general shift starting in the 1980’s could be attributed to stricter rating standards to give consumers a more accurate depiction of the type of content to expect, or a general shift towards more explicit and technologically advanced films, as FX were increasingly used and more graphically introduced to implement blood and gore or more advanced building dynamics such as buildings falling or exploding. This also connects back with the country map in where the increase in more graphic movies could mean a decrease in overall film quality creating a focus with the new FX. When looking at the last graph, showing the “Average IMDB Score by Language”, it depicts all the languages of the films in the sample and correlated them with their average Imdb score. This shows that the overall global score is 7.072 . As there are many languages in the sample that have films rated as high as 8.9 . However, there are many smaller countries or regions that do not have a strong film industry, such as Bosnia. In this case, the only movie in Bosnian was 4.3 . The multitude of these low rated movies brings down the overall average. In addition, the average is largely influenced based off the U.S. average, being the creator of a substantial portion of the global movie titles. \n"
      ]
    },
    {
      "cell_type": "code",
      "metadata": {
        "id": "GiYDwrUYn0k0",
        "colab_type": "code",
        "colab": {}
      },
      "source": [
        ""
      ],
      "execution_count": 0,
      "outputs": []
    }
  ]
}