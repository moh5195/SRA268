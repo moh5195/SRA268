{
  "nbformat": 4,
  "nbformat_minor": 0,
  "metadata": {
    "colab": {
      "name": "Team project 1 GBU.ipynb",
      "provenance": [],
      "authorship_tag": "ABX9TyM7bSQLps9piB4ZxjCB+VZ3",
      "include_colab_link": true
    },
    "kernelspec": {
      "name": "python3",
      "display_name": "Python 3"
    }
  },
  "cells": [
    {
      "cell_type": "markdown",
      "metadata": {
        "id": "view-in-github",
        "colab_type": "text"
      },
      "source": [
        "<a href=\"https://colab.research.google.com/github/moh5195/SRA268/blob/master/Team_project_1_GBU_.ipynb\" target=\"_parent\"><img src=\"https://colab.research.google.com/assets/colab-badge.svg\" alt=\"Open In Colab\"/></a>"
      ]
    },
    {
      "cell_type": "markdown",
      "metadata": {
        "id": "JZeO8moG9nLs",
        "colab_type": "text"
      },
      "source": [
        "#The Good, The Bad, The Ugly"
      ]
    },
    {
      "cell_type": "markdown",
      "metadata": {
        "id": "RDjNDTlNaR4X",
        "colab_type": "text"
      },
      "source": [
        "Katie Gallagher"
      ]
    },
    {
      "cell_type": "markdown",
      "metadata": {
        "id": "kiW_mr4FaY1N",
        "colab_type": "text"
      },
      "source": [
        "Abel Botterbusch"
      ]
    },
    {
      "cell_type": "markdown",
      "metadata": {
        "id": "UmxriXdAbIJi",
        "colab_type": "text"
      },
      "source": [
        "Michael Hoag"
      ]
    },
    {
      "cell_type": "markdown",
      "metadata": {
        "id": "mSWtmfFiai9M",
        "colab_type": "text"
      },
      "source": [
        "Section 001"
      ]
    },
    {
      "cell_type": "markdown",
      "metadata": {
        "id": "WJFHOQOibUJI",
        "colab_type": "text"
      },
      "source": [
        "# Lab assignment 1"
      ]
    },
    {
      "cell_type": "markdown",
      "metadata": {
        "id": "cnJqKp2_9tU0",
        "colab_type": "text"
      },
      "source": [
        "The main focus of this project is to sketch a graph of the sub-set of data. The data chosen is Janury and July of the years 2017, 2018, and 2019. This sketch utilizes colors for different years to make it distinguishable. The goal of this sketch is to show the minimum temerature changes over the years in one graphic that is appealing and easy to understand."
      ]
    },
    {
      "cell_type": "markdown",
      "metadata": {
        "id": "igWQe1iWbAAp",
        "colab_type": "text"
      },
      "source": [
        "\n",
        "# Sketch![](https://raw.githubusercontent.com/moh5195/SRA268/master/images/thumbnail_IMG_4866.jpg)"
      ]
    },
    {
      "cell_type": "markdown",
      "metadata": {
        "id": "dfVKSy-JJ00K",
        "colab_type": "text"
      },
      "source": [
        "#Conclusion\n"
      ]
    },
    {
      "cell_type": "markdown",
      "metadata": {
        "id": "mb9pgHM3KIh2",
        "colab_type": "text"
      },
      "source": [
        "Over the progression of three years, starting in 2017 ending in 2019, there is a small decline in the minimum temperature in July. However, the minimum temperature of January either remained the same or dropped dramatically, shown in 2018 with 0 degrees fahrenheit. From this graph, I would predict that the minimum temperature of July will continue to go down in 2020. "
      ]
    },
    {
      "cell_type": "markdown",
      "metadata": {
        "id": "Flz1YbyKeiVe",
        "colab_type": "text"
      },
      "source": [
        "#Team Project 1"
      ]
    },
    {
      "cell_type": "markdown",
      "metadata": {
        "id": "7fN8CpPzejwn",
        "colab_type": "text"
      },
      "source": [
        "In this project we analyzed the amount of snow in inches from 2000 to 2020. We then created three different visuals to help describe the data. The purpose of making the three graphs was to show how the visual representation can do nothing, help, or harm the audiences understanding of the data. The following examples show how the differences between a good data visual, an ugly and a bad data visual effect how we understand it. "
      ]
    },
    {
      "cell_type": "markdown",
      "metadata": {
        "id": "yibwGcvuem3W",
        "colab_type": "text"
      },
      "source": [
        "#The Good"
      ]
    },
    {
      "cell_type": "markdown",
      "metadata": {
        "id": "wH1p8RC7eoLD",
        "colab_type": "text"
      },
      "source": [
        "In our example of a \"good\" graph we used multiple retinal variables to enhance the understanding of our graph such as color and shape. We used gradience to display the larger points of data as a darker blue, and the smaller, less important points of data faded into a lighter blue. The brighter color draws attention to the more unique points of data. We also used size to enhance the importance of data points; the larger the amount of snow, the larger the circle is. Our goal was to incorporate multiple retinal variables to make the graph as easy as possible to interpret and understand. Viewers should be able to take a quick look and be able to fully understand the gist of the information displayed. "
      ]
    },
    {
      "cell_type": "code",
      "metadata": {
        "id": "iCqRMgqIbJW1",
        "colab_type": "code",
        "outputId": "c5daf202-49af-4339-e442-1a718a9cf52d",
        "colab": {
          "base_uri": "https://localhost:8080/",
          "height": 1000
        }
      },
      "source": [
        "import IPython\n",
        "IPython.display.HTML(\"<div class='tableauPlaceholder' id='viz1581110883025' style='position: relative'><noscript><a href='#'><img alt=' ' src='https:&#47;&#47;public.tableau.com&#47;static&#47;images&#47;Th&#47;TheGood1&#47;Sheet1&#47;1_rss.png' style='border: none' /></a></noscript><object class='tableauViz'  style='display:none;'><param name='host_url' value='https%3A%2F%2Fpublic.tableau.com%2F' /> <param name='embed_code_version' value='3' /> <param name='site_root' value='' /><param name='name' value='TheGood1&#47;Sheet1' /><param name='tabs' value='no' /><param name='toolbar' value='yes' /><param name='static_image' value='https:&#47;&#47;public.tableau.com&#47;static&#47;images&#47;Th&#47;TheGood1&#47;Sheet1&#47;1.png' /> <param name='animate_transition' value='yes' /><param name='display_static_image' value='yes' /><param name='display_spinner' value='yes' /><param name='display_overlay' value='yes' /><param name='display_count' value='yes' /></object></div>                <script type='text/javascript'>                    var divElement = document.getElementById('viz1581110883025');                    var vizElement = divElement.getElementsByTagName('object')[0];                    vizElement.style.width='100%';vizElement.style.height=(divElement.offsetWidth*0.75)+'px';                    var scriptElement = document.createElement('script');                    scriptElement.src = 'https://public.tableau.com/javascripts/api/viz_v1.js';                    vizElement.parentNode.insertBefore(scriptElement, vizElement);                </script>\")"
      ],
      "execution_count": 14,
      "outputs": [
        {
          "output_type": "execute_result",
          "data": {
            "text/html": [
              "<div class='tableauPlaceholder' id='viz1581110883025' style='position: relative'><noscript><a href='#'><img alt=' ' src='https:&#47;&#47;public.tableau.com&#47;static&#47;images&#47;Th&#47;TheGood1&#47;Sheet1&#47;1_rss.png' style='border: none' /></a></noscript><object class='tableauViz'  style='display:none;'><param name='host_url' value='https%3A%2F%2Fpublic.tableau.com%2F' /> <param name='embed_code_version' value='3' /> <param name='site_root' value='' /><param name='name' value='TheGood1&#47;Sheet1' /><param name='tabs' value='no' /><param name='toolbar' value='yes' /><param name='static_image' value='https:&#47;&#47;public.tableau.com&#47;static&#47;images&#47;Th&#47;TheGood1&#47;Sheet1&#47;1.png' /> <param name='animate_transition' value='yes' /><param name='display_static_image' value='yes' /><param name='display_spinner' value='yes' /><param name='display_overlay' value='yes' /><param name='display_count' value='yes' /></object></div>                <script type='text/javascript'>                    var divElement = document.getElementById('viz1581110883025');                    var vizElement = divElement.getElementsByTagName('object')[0];                    vizElement.style.width='100%';vizElement.style.height=(divElement.offsetWidth*0.75)+'px';                    var scriptElement = document.createElement('script');                    scriptElement.src = 'https://public.tableau.com/javascripts/api/viz_v1.js';                    vizElement.parentNode.insertBefore(scriptElement, vizElement);                </script>"
            ],
            "text/plain": [
              "<IPython.core.display.HTML object>"
            ]
          },
          "metadata": {
            "tags": []
          },
          "execution_count": 14
        }
      ]
    },
    {
      "cell_type": "markdown",
      "metadata": {
        "id": "kberCDWgfT3d",
        "colab_type": "text"
      },
      "source": [
        "#The Bad\n"
      ]
    },
    {
      "cell_type": "markdown",
      "metadata": {
        "id": "AEtMP-KmfWpv",
        "colab_type": "text"
      },
      "source": [
        "In the \"bad\" graph we utilized many different types of retinal variables that mask the understanding of the graph, such as shape, size and ambiguity. First, we choose the pie chart because it would be able to show many different variables in reference to eachother easily. It also serves as a way to visually identify the percentage through size, the smallest slice being the smallest amount of snow fall per year, compared to the larger slice, representing more. Lastly, the actual size of the graph is very small, in order to make it hard to understand what you are looking at and each slice relative to eachother. This also plays into the ambiguity, not knowing actual snow accumilation per year. "
      ]
    },
    {
      "cell_type": "code",
      "metadata": {
        "id": "au50Ff9GfYaY",
        "colab_type": "code",
        "colab": {
          "base_uri": "https://localhost:8080/",
          "height": 1000
        },
        "outputId": "c2e614cb-1225-4a04-f703-53d2429c3a64"
      },
      "source": [
        "import IPython\n",
        "IPython.display.HTML(\"<div class='tableauPlaceholder' id='viz1581093149672' style='position: relative'><noscript><a href='#'><img alt=' ' src='https:&#47;&#47;public.tableau.com&#47;static&#47;images&#47;Th&#47;TheBad2&#47;Sheet1&#47;1_rss.png' style='border: none' /></a></noscript><object class='tableauViz'  style='display:none;'><param name='host_url' value='https%3A%2F%2Fpublic.tableau.com%2F' /> <param name='embed_code_version' value='3' /> <param name='site_root' value='' /><param name='name' value='TheBad2&#47;Sheet1' /><param name='tabs' value='no' /><param name='toolbar' value='yes' /><param name='static_image' value='https:&#47;&#47;public.tableau.com&#47;static&#47;images&#47;Th&#47;TheBad2&#47;Sheet1&#47;1.png' /> <param name='animate_transition' value='yes' /><param name='display_static_image' value='yes' /><param name='display_spinner' value='yes' /><param name='display_overlay' value='yes' /><param name='display_count' value='yes' /></object></div>                <script type='text/javascript'>                    var divElement = document.getElementById('viz1581093149672');                    var vizElement = divElement.getElementsByTagName('object')[0];                    vizElement.style.width='100%';vizElement.style.height=(divElement.offsetWidth*0.75)+'px';                    var scriptElement = document.createElement('script');                    scriptElement.src = 'https://public.tableau.com/javascripts/api/viz_v1.js';                    vizElement.parentNode.insertBefore(scriptElement, vizElement);                </script>\")"
      ],
      "execution_count": 11,
      "outputs": [
        {
          "output_type": "execute_result",
          "data": {
            "text/html": [
              "<div class='tableauPlaceholder' id='viz1581093149672' style='position: relative'><noscript><a href='#'><img alt=' ' src='https:&#47;&#47;public.tableau.com&#47;static&#47;images&#47;Th&#47;TheBad2&#47;Sheet1&#47;1_rss.png' style='border: none' /></a></noscript><object class='tableauViz'  style='display:none;'><param name='host_url' value='https%3A%2F%2Fpublic.tableau.com%2F' /> <param name='embed_code_version' value='3' /> <param name='site_root' value='' /><param name='name' value='TheBad2&#47;Sheet1' /><param name='tabs' value='no' /><param name='toolbar' value='yes' /><param name='static_image' value='https:&#47;&#47;public.tableau.com&#47;static&#47;images&#47;Th&#47;TheBad2&#47;Sheet1&#47;1.png' /> <param name='animate_transition' value='yes' /><param name='display_static_image' value='yes' /><param name='display_spinner' value='yes' /><param name='display_overlay' value='yes' /><param name='display_count' value='yes' /></object></div>                <script type='text/javascript'>                    var divElement = document.getElementById('viz1581093149672');                    var vizElement = divElement.getElementsByTagName('object')[0];                    vizElement.style.width='100%';vizElement.style.height=(divElement.offsetWidth*0.75)+'px';                    var scriptElement = document.createElement('script');                    scriptElement.src = 'https://public.tableau.com/javascripts/api/viz_v1.js';                    vizElement.parentNode.insertBefore(scriptElement, vizElement);                </script>"
            ],
            "text/plain": [
              "<IPython.core.display.HTML object>"
            ]
          },
          "metadata": {
            "tags": []
          },
          "execution_count": 11
        }
      ]
    },
    {
      "cell_type": "markdown",
      "metadata": {
        "id": "NXmDMDovffew",
        "colab_type": "text"
      },
      "source": [
        "#The Ugly"
      ]
    },
    {
      "cell_type": "markdown",
      "metadata": {
        "id": "1oAF58_ffb3x",
        "colab_type": "text"
      },
      "source": [
        "In our final example of the \"ugly\" we utilized multiple retinal variables in the wrong way to make the graph seem unappealing to represent the data and to read it, while still being able to. The color used and gradient of brown, is a very bland color, compared to blue or green. The block graph, itself is somewhat hard to read to get data from, however, being large allows you get get a reference of year to year. The blocks starting largest at the top left and becoming gradually smaller towards the bottom right corner, results in a mix up of years, erasing any visible trends or patters without a decipher of the blocks."
      ]
    },
    {
      "cell_type": "code",
      "metadata": {
        "id": "8h85XNqRfcya",
        "colab_type": "code",
        "colab": {
          "base_uri": "https://localhost:8080/",
          "height": 1000
        },
        "outputId": "6c2837cb-016d-4934-8f59-da0871b6700c"
      },
      "source": [
        "import IPython\n",
        "IPython.display.HTML(\"<div class='tableauPlaceholder' id='viz1581108641811' style='position: relative'><noscript><a href='#'><img alt=' ' src='https:&#47;&#47;public.tableau.com&#47;static&#47;images&#47;Th&#47;TheBad&#47;Sheet1&#47;1_rss.png' style='border: none' /></a></noscript><object class='tableauViz'  style='display:none;'><param name='host_url' value='https%3A%2F%2Fpublic.tableau.com%2F' /> <param name='embed_code_version' value='3' /> <param name='site_root' value='' /><param name='name' value='TheBad&#47;Sheet1' /><param name='tabs' value='no' /><param name='toolbar' value='yes' /><param name='static_image' value='https:&#47;&#47;public.tableau.com&#47;static&#47;images&#47;Th&#47;TheBad&#47;Sheet1&#47;1.png' /> <param name='animate_transition' value='yes' /><param name='display_static_image' value='yes' /><param name='display_spinner' value='yes' /><param name='display_overlay' value='yes' /><param name='display_count' value='yes' /></object></div>                <script type='text/javascript'>                    var divElement = document.getElementById('viz1581108641811');                    var vizElement = divElement.getElementsByTagName('object')[0];                    vizElement.style.width='100%';vizElement.style.height=(divElement.offsetWidth*0.75)+'px';                    var scriptElement = document.createElement('script');                    scriptElement.src = 'https://public.tableau.com/javascripts/api/viz_v1.js';                    vizElement.parentNode.insertBefore(scriptElement, vizElement);                </script>\")"
      ],
      "execution_count": 12,
      "outputs": [
        {
          "output_type": "execute_result",
          "data": {
            "text/html": [
              "<div class='tableauPlaceholder' id='viz1581108641811' style='position: relative'><noscript><a href='#'><img alt=' ' src='https:&#47;&#47;public.tableau.com&#47;static&#47;images&#47;Th&#47;TheBad&#47;Sheet1&#47;1_rss.png' style='border: none' /></a></noscript><object class='tableauViz'  style='display:none;'><param name='host_url' value='https%3A%2F%2Fpublic.tableau.com%2F' /> <param name='embed_code_version' value='3' /> <param name='site_root' value='' /><param name='name' value='TheBad&#47;Sheet1' /><param name='tabs' value='no' /><param name='toolbar' value='yes' /><param name='static_image' value='https:&#47;&#47;public.tableau.com&#47;static&#47;images&#47;Th&#47;TheBad&#47;Sheet1&#47;1.png' /> <param name='animate_transition' value='yes' /><param name='display_static_image' value='yes' /><param name='display_spinner' value='yes' /><param name='display_overlay' value='yes' /><param name='display_count' value='yes' /></object></div>                <script type='text/javascript'>                    var divElement = document.getElementById('viz1581108641811');                    var vizElement = divElement.getElementsByTagName('object')[0];                    vizElement.style.width='100%';vizElement.style.height=(divElement.offsetWidth*0.75)+'px';                    var scriptElement = document.createElement('script');                    scriptElement.src = 'https://public.tableau.com/javascripts/api/viz_v1.js';                    vizElement.parentNode.insertBefore(scriptElement, vizElement);                </script>"
            ],
            "text/plain": [
              "<IPython.core.display.HTML object>"
            ]
          },
          "metadata": {
            "tags": []
          },
          "execution_count": 12
        }
      ]
    }
  ]
}