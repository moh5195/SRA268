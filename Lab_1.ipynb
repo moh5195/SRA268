{
  "nbformat": 4,
  "nbformat_minor": 0,
  "metadata": {
    "colab": {
      "name": "Lab 1.ipynb",
      "provenance": [],
      "authorship_tag": "ABX9TyN16k/EBe4w/v7lcT2OD3xd",
      "include_colab_link": true
    },
    "kernelspec": {
      "name": "python3",
      "display_name": "Python 3"
    }
  },
  "cells": [
    {
      "cell_type": "markdown",
      "metadata": {
        "id": "view-in-github",
        "colab_type": "text"
      },
      "source": [
        "<a href=\"https://colab.research.google.com/github/moh5195/SRA268/blob/master/Lab_1.ipynb\" target=\"_parent\"><img src=\"https://colab.research.google.com/assets/colab-badge.svg\" alt=\"Open In Colab\"/></a>"
      ]
    },
    {
      "cell_type": "markdown",
      "metadata": {
        "id": "JZeO8moG9nLs",
        "colab_type": "text"
      },
      "source": [
        "# Lab 1"
      ]
    },
    {
      "cell_type": "markdown",
      "metadata": {
        "id": "UmxriXdAbIJi",
        "colab_type": "text"
      },
      "source": [
        "Michael Hoag\n",
        "moh5195@psu.edu\n",
        "Section 001"
      ]
    },
    {
      "cell_type": "markdown",
      "metadata": {
        "id": "WJFHOQOibUJI",
        "colab_type": "text"
      },
      "source": [
        "# Outline "
      ]
    },
    {
      "cell_type": "markdown",
      "metadata": {
        "id": "cnJqKp2_9tU0",
        "colab_type": "text"
      },
      "source": [
        "The main focus of this project is to sketch a graph of the sub-set of data. The data chosen is Janury and July of the years 2017, 2018, and 2019. This sketch utilizes colors for different years to make it distinguishable. The goal of this sketch is to show the minimum temerature changes over the years in one graphic that is appealing and easy to understand."
      ]
    },
    {
      "cell_type": "markdown",
      "metadata": {
        "id": "igWQe1iWbAAp",
        "colab_type": "text"
      },
      "source": [
        "\n",
        "# Sketch![](https://raw.githubusercontent.com/moh5195/SRA268/master/images/thumbnail_IMG_4866.jpg)"
      ]
    },
    {
      "cell_type": "markdown",
      "metadata": {
        "id": "dfVKSy-JJ00K",
        "colab_type": "text"
      },
      "source": [
        "#Conclusion\n"
      ]
    },
    {
      "cell_type": "markdown",
      "metadata": {
        "id": "mb9pgHM3KIh2",
        "colab_type": "text"
      },
      "source": [
        "Over the progression of three years, starting in 2017 ending in 2019, there is a small decline in the minimum temperature in July. However, the minimum temperature of January either remained the same or dropped dramatically, shown in 2018 with 0 degrees fahrenheit. From this graph, I would predict that the minimum temperature of July will continue to go down in 2020. "
      ]
    }
  ]
}