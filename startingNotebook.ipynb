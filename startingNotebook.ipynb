{
  "nbformat": 4,
  "nbformat_minor": 0,
  "metadata": {
    "colab": {
      "name": "startingNotebook.ipynb",
      "provenance": [],
      "toc_visible": true,
      "authorship_tag": "ABX9TyOqHowhrj00xXPs1SNHI8z+",
      "include_colab_link": true
    },
    "kernelspec": {
      "name": "python3",
      "display_name": "Python 3"
    }
  },
  "cells": [
    {
      "cell_type": "markdown",
      "metadata": {
        "id": "view-in-github",
        "colab_type": "text"
      },
      "source": [
        "<a href=\"https://colab.research.google.com/github/moh5195/SRA268/blob/master/startingNotebook.ipynb\" target=\"_parent\"><img src=\"https://colab.research.google.com/assets/colab-badge.svg\" alt=\"Open In Colab\"/></a>"
      ]
    },
    {
      "cell_type": "code",
      "metadata": {
        "id": "wawuXpOE4snI",
        "colab_type": "code",
        "colab": {
          "base_uri": "https://localhost:8080/",
          "height": 34
        },
        "outputId": "f5127735-1ff4-40c1-fd54-4afcd186143c"
      },
      "source": [
        "2+2"
      ],
      "execution_count": 1,
      "outputs": [
        {
          "output_type": "execute_result",
          "data": {
            "text/plain": [
              "4"
            ]
          },
          "metadata": {
            "tags": []
          },
          "execution_count": 1
        }
      ]
    },
    {
      "cell_type": "markdown",
      "metadata": {
        "id": "jvCGDrOt5d8a",
        "colab_type": "text"
      },
      "source": [
        "# Abstract "
      ]
    },
    {
      "cell_type": "markdown",
      "metadata": {
        "id": "uVeNnrn15zEp",
        "colab_type": "text"
      },
      "source": [
        "somethings in the abstract"
      ]
    },
    {
      "cell_type": "markdown",
      "metadata": {
        "id": "6B_Vh3gE52XD",
        "colab_type": "text"
      },
      "source": [
        "# introduction"
      ]
    },
    {
      "cell_type": "markdown",
      "metadata": {
        "id": "tb9Ry6EC54Yz",
        "colab_type": "text"
      },
      "source": [
        "falkje;kfjel;"
      ]
    },
    {
      "cell_type": "markdown",
      "metadata": {
        "id": "NeVKpw7C6Ked",
        "colab_type": "text"
      },
      "source": [
        "![no image here](https://raw.githubusercontent.com/moh5195/SRA268/master/images/github.png)"
      ]
    }
  ]
}