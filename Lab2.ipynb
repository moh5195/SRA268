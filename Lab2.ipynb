{
  "nbformat": 4,
  "nbformat_minor": 0,
  "metadata": {
    "colab": {
      "name": "Lab2.ipynb",
      "provenance": [],
      "authorship_tag": "ABX9TyNa/gGKFoMTHLaZlJuWoDzZ",
      "include_colab_link": true
    },
    "kernelspec": {
      "name": "python3",
      "display_name": "Python 3"
    }
  },
  "cells": [
    {
      "cell_type": "markdown",
      "metadata": {
        "id": "view-in-github",
        "colab_type": "text"
      },
      "source": [
        "<a href=\"https://colab.research.google.com/github/moh5195/SRA268/blob/master/Lab2.ipynb\" target=\"_parent\"><img src=\"https://colab.research.google.com/assets/colab-badge.svg\" alt=\"Open In Colab\"/></a>"
      ]
    },
    {
      "cell_type": "markdown",
      "metadata": {
        "id": "3Fr32JOS7Alv",
        "colab_type": "text"
      },
      "source": [
        "\n",
        "#Graph Types"
      ]
    },
    {
      "cell_type": "markdown",
      "metadata": {
        "id": "WBT7Bj4w7Fdu",
        "colab_type": "text"
      },
      "source": [
        "Creator"
      ]
    },
    {
      "cell_type": "markdown",
      "metadata": {
        "id": "W4Bn8qQL7GdH",
        "colab_type": "text"
      },
      "source": [
        "\n",
        "\n",
        "*   Michael Hoag\n",
        "\n",
        "\n"
      ]
    },
    {
      "cell_type": "markdown",
      "metadata": {
        "id": "XqCNj0kA7NvI",
        "colab_type": "text"
      },
      "source": [
        "#Deviation"
      ]
    },
    {
      "cell_type": "markdown",
      "metadata": {
        "id": "HPC3_atl7Puj",
        "colab_type": "text"
      },
      "source": [
        "![alt text](https://raw.githubusercontent.com/moh5195/SRA268/master/images/Lab2/Deviation%20Divergent.png)"
      ]
    },
    {
      "cell_type": "markdown",
      "metadata": {
        "id": "CpuB6lZi7UWV",
        "colab_type": "text"
      },
      "source": [
        "**What is this telling us?**\n",
        "> This graph is showing the relationship between each year, and how the average amount of winning points differes from the reference set value of 4,938. This represents the overall average on all the winning points scored. This effectivly shows, the large dips show years that under preformed and the peaks are years that beat the average, scoring more than usual. For example, from 1986 until 1993 there were well below. \n",
        "\n",
        "\n",
        "\n",
        "\n",
        "\n"
      ]
    },
    {
      "cell_type": "markdown",
      "metadata": {
        "id": "uMfPVNtZ7kNA",
        "colab_type": "text"
      },
      "source": [
        "#Correlation"
      ]
    },
    {
      "cell_type": "markdown",
      "metadata": {
        "id": "yfSs2E1u7mQj",
        "colab_type": "text"
      },
      "source": [
        "![alt text](https://raw.githubusercontent.com/moh5195/SRA268/master/images/Lab2/Correlation-Scatterpolot.png)"
      ]
    },
    {
      "cell_type": "markdown",
      "metadata": {
        "id": "elZUtdUD7m96",
        "colab_type": "text"
      },
      "source": [
        "**What is this telling us?**\n",
        ">In this graph, the correlation is meant to show how much one variable is affected by another. In this case, this displays the steady avarage winning point values over the years, starting from 1980 until 2017. Although it is a little wobbly, going up and down like mini hills, it isnt enough to give an overall all upward or downward trent. But this also shows that they stayed around the same, not lowereing too far. "
      ]
    },
    {
      "cell_type": "markdown",
      "metadata": {
        "id": "vtKqC6WP7pLE",
        "colab_type": "text"
      },
      "source": [
        "#Ranking"
      ]
    },
    {
      "cell_type": "markdown",
      "metadata": {
        "id": "VZ3t5YJ47rAT",
        "colab_type": "text"
      },
      "source": [
        "![alt text](https://raw.githubusercontent.com/moh5195/SRA268/master/images/Lab2/Ranking%20orded%20bar.png)"
      ]
    },
    {
      "cell_type": "markdown",
      "metadata": {
        "id": "vHF21whY7rle",
        "colab_type": "text"
      },
      "source": [
        "**What is this telling us?**\n",
        ">In this ranking graph, it is used to display how sets of data compare to one another in reference to a common variable. In this case, each region is being ranked and compared by their count of win seeds. Putting them in order allows one to easily pick out the largest all the way down to the lowest. Region Y, has the most win seeds, then going in order to the lowest, is X, Z, and lastly W. "
      ]
    },
    {
      "cell_type": "markdown",
      "metadata": {
        "id": "dOaIOprT7sBo",
        "colab_type": "text"
      },
      "source": [
        "#Distribution"
      ]
    },
    {
      "cell_type": "markdown",
      "metadata": {
        "id": "ik-eF5zZ7t2V",
        "colab_type": "text"
      },
      "source": [
        "![alt text](https://raw.githubusercontent.com/moh5195/SRA268/master/images/Lab2/Distrubution%20histogram.png)"
      ]
    },
    {
      "cell_type": "markdown",
      "metadata": {
        "id": "WwNfP9-T7uUE",
        "colab_type": "text"
      },
      "source": [
        "**What is this telling us?**\n",
        ">A distribution graph is meant to organize all possible values in a bell shape to show how they relate to eachother through frequency. In this graph, it shows how winning points end up with wins. In this specific graph, you can see a downward shaping bell shape. At the peak, the most frequent count of winning points were 70-80 matching up with around 600 wins.  "
      ]
    },
    {
      "cell_type": "markdown",
      "metadata": {
        "id": "SqTZql1-7us7",
        "colab_type": "text"
      },
      "source": [
        "#Change over Time"
      ]
    },
    {
      "cell_type": "markdown",
      "metadata": {
        "id": "Az2XNE2I7wee",
        "colab_type": "text"
      },
      "source": [
        "![alt text](https://raw.githubusercontent.com/moh5195/SRA268/master/images/Lab2/change%20over%20time%20canlde.png)"
      ]
    },
    {
      "cell_type": "markdown",
      "metadata": {
        "id": "OpK1QsXW7xBL",
        "colab_type": "text"
      },
      "source": [
        "**What is this telling us?**\n",
        ">The box and whisker plot is to display the most important statistics of a set of data, in this case each year. It shows the median, mode, along with any outliers. This shows the each years winning points. Having each year lined up allows for one to see the progression over multiple years to find any trends or patterns. In this case, ther is a large difference from 2007 to 2010. Howver, most of the data is clumped around 100 points from 2012 until 2015 where is got higher. "
      ]
    },
    {
      "cell_type": "markdown",
      "metadata": {
        "id": "OMGMPReu7xg6",
        "colab_type": "text"
      },
      "source": [
        "#Magnitude"
      ]
    },
    {
      "cell_type": "markdown",
      "metadata": {
        "id": "6HfLz37870RX",
        "colab_type": "text"
      },
      "source": [
        "![alt text](https://raw.githubusercontent.com/moh5195/SRA268/master/images/Lab2/MAGNITUDE.png)"
      ]
    },
    {
      "cell_type": "markdown",
      "metadata": {
        "id": "y6GpoPUL71Dt",
        "colab_type": "text"
      },
      "source": [
        "**What is this telling us?**\n",
        ">In this graph, it is designed to show the extent of one group of data over another or in reference to another. In this specific case, the Alligator winning mascot has a large amount of wins over the other the otheres, and has them also concentrated in regions X and Y. Although the Badgers have a large magnitude of wins in regions W and Z, their other regions are low compared to the Alligators. Seeing them in this arrangement allows visual recognition of the superiority over other teams in the same regions. "
      ]
    },
    {
      "cell_type": "markdown",
      "metadata": {
        "id": "5dIMK0Nl71cn",
        "colab_type": "text"
      },
      "source": [
        "#Part-to-Whole"
      ]
    },
    {
      "cell_type": "markdown",
      "metadata": {
        "id": "4OzyEEvX74Tg",
        "colab_type": "text"
      },
      "source": [
        "![alt text](https://raw.githubusercontent.com/moh5195/SRA268/master/images/Lab2/Part-to-whole-treemap.png)"
      ]
    },
    {
      "cell_type": "markdown",
      "metadata": {
        "id": "CnFWYukd742e",
        "colab_type": "text"
      },
      "source": [
        "**What is this telling us?**\n",
        ">The purpose of this graph is show visually one group of data is larger in reference to another group through easily destinguishable color retinal variables and size. In this specific case, the viewer can easily see how Mammalia are the most winning class, followed by the other smaller and less deep blue squares. Such as Aves, or Magnoliopsida's."
      ]
    }
  ]
}